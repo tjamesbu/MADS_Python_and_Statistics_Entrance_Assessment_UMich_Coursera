{
  "nbformat": 4,
  "nbformat_minor": 0,
  "metadata": {
    "colab": {
      "name": "EntranceExamAttempt2Q11.ipynb",
      "provenance": [],
      "collapsed_sections": []
    },
    "kernelspec": {
      "name": "python3",
      "display_name": "Python 3"
    },
    "language_info": {
      "name": "python"
    }
  },
  "cells": [
    {
      "cell_type": "code",
      "metadata": {
        "id": "c0Mp2AnZY3UE"
      },
      "source": [
        ""
      ],
      "execution_count": null,
      "outputs": []
    },
    {
      "cell_type": "markdown",
      "metadata": {
        "id": "l6d0lQA0fpvs"
      },
      "source": [
        "Which of the following list comprehensions will extract all country names in the dictionary \"co2_emissions\", which have a \"Per Capita\" value that is larger than 10.00?  Select all that apply."
      ]
    },
    {
      "cell_type": "markdown",
      "metadata": {
        "id": "lD7Oe3ZMKvJ_"
      },
      "source": [
        ""
      ]
    },
    {
      "cell_type": "code",
      "metadata": {
        "id": "QBc-Oc9RKvgN"
      },
      "source": [
        "co2_emissions = [{\"Name\": \"United States\",\n",
        "                  \"Rank\": 2,\n",
        "                  \"Total Emissions\": 4997.50,\n",
        "                  \"Per Capita\": 15.53},\n",
        "                 {\"Name\": \"China\",\n",
        "                  \"Rank\": 1,\n",
        "                  \"Total Emissions\": 9040.74,\n",
        "                  \"Per Capita\": 6.59},\n",
        "                 {\"Name\": \"Germany\",\n",
        "                  \"Rank\": 6,\n",
        "                  \"Total Emissions\": 729.77,\n",
        "                  \"Per Capita\": 8.93},\n",
        "                 {\"Name\": \"Mexico\",\n",
        "                  \"Rank\": 12,\n",
        "                  \"Total Emissions\": 442.32,\n",
        "                  \"Per Capita\": 3.66},\n",
        "                 {\"Name\": \"Canada\",\n",
        "                  \"Rank\": 9,\n",
        "                  \"Total Emissions\": 549.23,\n",
        "                  \"Per Capita\": 15.32},\n",
        "                 {\"Name\": \"Turkey\",\n",
        "                  \"Rank\": 18,\n",
        "                  \"Total Emissions\": 317.22,\n",
        "                  \"Per Capita\": 4.10},\n",
        "                 {\"Name\": \"Russia\",\n",
        "                  \"Rank\": 4,\n",
        "                  \"Total Emissions\": 1468.99,\n",
        "                  \"Per Capita\": 10.19},\n",
        "                 {\"Name\": \"Saudi Arabia\",\n",
        "                  \"Rank\": 10,\n",
        "                  \"Total Emissions\": 531.46,\n",
        "                  \"Per Capita\": 16.85}]"
      ],
      "execution_count": null,
      "outputs": []
    },
    {
      "cell_type": "code",
      "metadata": {
        "colab": {
          "base_uri": "https://localhost:8080/"
        },
        "id": "Uc5mvc1dbeP9",
        "outputId": "b88431e7-c27d-4fdf-d2e7-616aa60ef4fe"
      },
      "source": [
        "[c[\"Name\"] for c in co2_emissions if c[\"Per Capita\"] > 10.00]"
      ],
      "execution_count": null,
      "outputs": [
        {
          "output_type": "execute_result",
          "data": {
            "text/plain": [
              "['United States', 'Canada', 'Russia', 'Saudi Arabia']"
            ]
          },
          "metadata": {
            "tags": []
          },
          "execution_count": 2
        }
      ]
    },
    {
      "cell_type": "code",
      "metadata": {
        "colab": {
          "base_uri": "https://localhost:8080/",
          "height": 216
        },
        "id": "U8f9cF9XbvzL",
        "outputId": "0bf285cc-1cad-452b-da9e-b2fb5f1afaaf"
      },
      "source": [
        "[c for c in co2_emissions if co2_emissions[c][\"Per Capita\"] > 10.00]"
      ],
      "execution_count": null,
      "outputs": [
        {
          "output_type": "error",
          "ename": "TypeError",
          "evalue": "ignored",
          "traceback": [
            "\u001b[0;31m---------------------------------------------------------------------------\u001b[0m",
            "\u001b[0;31mTypeError\u001b[0m                                 Traceback (most recent call last)",
            "\u001b[0;32m<ipython-input-3-1f3ae4176522>\u001b[0m in \u001b[0;36m<module>\u001b[0;34m()\u001b[0m\n\u001b[0;32m----> 1\u001b[0;31m \u001b[0;34m[\u001b[0m\u001b[0mc\u001b[0m \u001b[0;32mfor\u001b[0m \u001b[0mc\u001b[0m \u001b[0;32min\u001b[0m \u001b[0mco2_emissions\u001b[0m \u001b[0;32mif\u001b[0m \u001b[0mco2_emissions\u001b[0m\u001b[0;34m[\u001b[0m\u001b[0mc\u001b[0m\u001b[0;34m]\u001b[0m\u001b[0;34m[\u001b[0m\u001b[0;34m\"Per Capita\"\u001b[0m\u001b[0;34m]\u001b[0m \u001b[0;34m>\u001b[0m \u001b[0;36m10.00\u001b[0m\u001b[0;34m]\u001b[0m\u001b[0;34m\u001b[0m\u001b[0;34m\u001b[0m\u001b[0m\n\u001b[0m",
            "\u001b[0;32m<ipython-input-3-1f3ae4176522>\u001b[0m in \u001b[0;36m<listcomp>\u001b[0;34m(.0)\u001b[0m\n\u001b[0;32m----> 1\u001b[0;31m \u001b[0;34m[\u001b[0m\u001b[0mc\u001b[0m \u001b[0;32mfor\u001b[0m \u001b[0mc\u001b[0m \u001b[0;32min\u001b[0m \u001b[0mco2_emissions\u001b[0m \u001b[0;32mif\u001b[0m \u001b[0mco2_emissions\u001b[0m\u001b[0;34m[\u001b[0m\u001b[0mc\u001b[0m\u001b[0;34m]\u001b[0m\u001b[0;34m[\u001b[0m\u001b[0;34m\"Per Capita\"\u001b[0m\u001b[0;34m]\u001b[0m \u001b[0;34m>\u001b[0m \u001b[0;36m10.00\u001b[0m\u001b[0;34m]\u001b[0m\u001b[0;34m\u001b[0m\u001b[0;34m\u001b[0m\u001b[0m\n\u001b[0m",
            "\u001b[0;31mTypeError\u001b[0m: list indices must be integers or slices, not dict"
          ]
        }
      ]
    },
    {
      "cell_type": "code",
      "metadata": {
        "colab": {
          "base_uri": "https://localhost:8080/"
        },
        "id": "c9Yl7GCcbwHb",
        "outputId": "b0eebd3f-a06e-40ae-eb56-b35d026d11a3"
      },
      "source": [
        "[c[\"Per Capita\"] for c in co2_emissions if c[\"Per Capita\"] > 10.00]"
      ],
      "execution_count": null,
      "outputs": [
        {
          "output_type": "execute_result",
          "data": {
            "text/plain": [
              "[15.53, 15.32, 10.19, 16.85]"
            ]
          },
          "metadata": {
            "tags": []
          },
          "execution_count": 4
        }
      ]
    },
    {
      "cell_type": "code",
      "metadata": {
        "colab": {
          "base_uri": "https://localhost:8080/"
        },
        "id": "XdnDMmhgbwfR",
        "outputId": "88807765-5b26-4a80-bda4-119f1dfbb7b7"
      },
      "source": [
        "[c[\"Name\"] for c in co2_emissions if c[\"Per Capita\"] < 10.00]"
      ],
      "execution_count": null,
      "outputs": [
        {
          "output_type": "execute_result",
          "data": {
            "text/plain": [
              "['China', 'Germany', 'Mexico', 'Turkey']"
            ]
          },
          "metadata": {
            "tags": []
          },
          "execution_count": 5
        }
      ]
    }
  ]
}