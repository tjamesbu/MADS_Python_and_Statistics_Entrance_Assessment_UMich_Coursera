{
  "nbformat": 4,
  "nbformat_minor": 0,
  "metadata": {
    "colab": {
      "name": "EntranceExamAttempt2Q16.ipynb",
      "provenance": [],
      "collapsed_sections": []
    },
    "kernelspec": {
      "name": "python3",
      "display_name": "Python 3"
    },
    "language_info": {
      "name": "python"
    }
  },
  "cells": [
    {
      "cell_type": "code",
      "metadata": {
        "id": "TPwukTHjhpTI"
      },
      "source": [
        ""
      ],
      "execution_count": null,
      "outputs": []
    },
    {
      "cell_type": "markdown",
      "metadata": {
        "id": "q97LLZcmeO0L"
      },
      "source": [
        "Assuming the following class is defined, how would you write the code to add a new instance of the Game class, which has 40 players, is called \"Ice Hockey\", and starts off with sticks, a goal, ice skates, and a puck as equipment? Select all that apply."
      ]
    },
    {
      "cell_type": "code",
      "metadata": {
        "id": "JU8LMKx2k9py"
      },
      "source": [
        "class Game():\n",
        "    def _init_(self, title, players, equipment):\n",
        "        self.title_of_game = title\n",
        "        self.num_players = players\n",
        "        self.equipment = equipment\n",
        "        self.rules = []\n",
        " \n",
        "    def make_rule(self, new_rule):\n",
        "        if new_rule not in self.rules:\n",
        "            self.rules.append(new_rule)\n",
        " \n",
        "    def add_equipment(self, new_equip):\n",
        "        if new_equip not in self.equipment:\n",
        "            self.equipment.append(new_equip)\n",
        " \n",
        "    def _str_(self):\n",
        "        return \"You are about to play the game - {} - with {} players\".format(self.title_of_game, self.players)"
      ],
      "execution_count": null,
      "outputs": []
    },
    {
      "cell_type": "code",
      "metadata": {
        "colab": {
          "base_uri": "https://localhost:8080/",
          "height": 164
        },
        "id": "2wSk7mRbjTHa",
        "outputId": "3b405550-f2a4-47a4-839d-fa9aa300b2f7"
      },
      "source": [
        "Game(40, \"Ice Hockey\", [\"sticks\", \"goal\", \"ice skates\", \"puck\"])"
      ],
      "execution_count": null,
      "outputs": [
        {
          "output_type": "error",
          "ename": "TypeError",
          "evalue": "ignored",
          "traceback": [
            "\u001b[0;31m---------------------------------------------------------------------------\u001b[0m",
            "\u001b[0;31mTypeError\u001b[0m                                 Traceback (most recent call last)",
            "\u001b[0;32m<ipython-input-2-121cba381ecc>\u001b[0m in \u001b[0;36m<module>\u001b[0;34m()\u001b[0m\n\u001b[0;32m----> 1\u001b[0;31m \u001b[0mGame\u001b[0m\u001b[0;34m(\u001b[0m\u001b[0;36m40\u001b[0m\u001b[0;34m,\u001b[0m \u001b[0;34m\"Ice Hockey\"\u001b[0m\u001b[0;34m,\u001b[0m \u001b[0;34m[\u001b[0m\u001b[0;34m\"sticks\"\u001b[0m\u001b[0;34m,\u001b[0m \u001b[0;34m\"goal\"\u001b[0m\u001b[0;34m,\u001b[0m \u001b[0;34m\"ice skates\"\u001b[0m\u001b[0;34m,\u001b[0m \u001b[0;34m\"puck\"\u001b[0m\u001b[0;34m]\u001b[0m\u001b[0;34m)\u001b[0m\u001b[0;34m\u001b[0m\u001b[0;34m\u001b[0m\u001b[0m\n\u001b[0m",
            "\u001b[0;31mTypeError\u001b[0m: Game() takes no arguments"
          ]
        }
      ]
    },
    {
      "cell_type": "code",
      "metadata": {
        "colab": {
          "base_uri": "https://localhost:8080/",
          "height": 164
        },
        "id": "xKqrdoN9jTha",
        "outputId": "8244f38b-1143-4f74-b031-8c202a8426f7"
      },
      "source": [
        "Game(\"Ice Hockey\", 40, [\"sticks\", \"goal\", \"ice skates\", \"puck\"])"
      ],
      "execution_count": null,
      "outputs": [
        {
          "output_type": "error",
          "ename": "TypeError",
          "evalue": "ignored",
          "traceback": [
            "\u001b[0;31m---------------------------------------------------------------------------\u001b[0m",
            "\u001b[0;31mTypeError\u001b[0m                                 Traceback (most recent call last)",
            "\u001b[0;32m<ipython-input-3-bfe14c2dd54f>\u001b[0m in \u001b[0;36m<module>\u001b[0;34m()\u001b[0m\n\u001b[0;32m----> 1\u001b[0;31m \u001b[0mGame\u001b[0m\u001b[0;34m(\u001b[0m\u001b[0;34m\"Ice Hockey\"\u001b[0m\u001b[0;34m,\u001b[0m \u001b[0;36m40\u001b[0m\u001b[0;34m,\u001b[0m \u001b[0;34m[\u001b[0m\u001b[0;34m\"sticks\"\u001b[0m\u001b[0;34m,\u001b[0m \u001b[0;34m\"goal\"\u001b[0m\u001b[0;34m,\u001b[0m \u001b[0;34m\"ice skates\"\u001b[0m\u001b[0;34m,\u001b[0m \u001b[0;34m\"puck\"\u001b[0m\u001b[0;34m]\u001b[0m\u001b[0;34m)\u001b[0m\u001b[0;34m\u001b[0m\u001b[0;34m\u001b[0m\u001b[0m\n\u001b[0m",
            "\u001b[0;31mTypeError\u001b[0m: Game() takes no arguments"
          ]
        }
      ]
    },
    {
      "cell_type": "code",
      "metadata": {
        "colab": {
          "base_uri": "https://localhost:8080/",
          "height": 164
        },
        "id": "gxvzbz0YjT29",
        "outputId": "00ad69f0-cab7-437a-bca6-8084ba4e7c38"
      },
      "source": [
        "Game(equipment = [\"sticks\", \"goal\", \"ice skates\", \"puck\"], players = 40, title = \"Ice Hockey\")"
      ],
      "execution_count": null,
      "outputs": [
        {
          "output_type": "error",
          "ename": "TypeError",
          "evalue": "ignored",
          "traceback": [
            "\u001b[0;31m---------------------------------------------------------------------------\u001b[0m",
            "\u001b[0;31mTypeError\u001b[0m                                 Traceback (most recent call last)",
            "\u001b[0;32m<ipython-input-4-6b49a86808d3>\u001b[0m in \u001b[0;36m<module>\u001b[0;34m()\u001b[0m\n\u001b[0;32m----> 1\u001b[0;31m \u001b[0mGame\u001b[0m\u001b[0;34m(\u001b[0m\u001b[0mequipment\u001b[0m \u001b[0;34m=\u001b[0m \u001b[0;34m[\u001b[0m\u001b[0;34m\"sticks\"\u001b[0m\u001b[0;34m,\u001b[0m \u001b[0;34m\"goal\"\u001b[0m\u001b[0;34m,\u001b[0m \u001b[0;34m\"ice skates\"\u001b[0m\u001b[0;34m,\u001b[0m \u001b[0;34m\"puck\"\u001b[0m\u001b[0;34m]\u001b[0m\u001b[0;34m,\u001b[0m \u001b[0mplayers\u001b[0m \u001b[0;34m=\u001b[0m \u001b[0;36m40\u001b[0m\u001b[0;34m,\u001b[0m \u001b[0mtitle\u001b[0m \u001b[0;34m=\u001b[0m \u001b[0;34m\"Ice Hockey\"\u001b[0m\u001b[0;34m)\u001b[0m\u001b[0;34m\u001b[0m\u001b[0;34m\u001b[0m\u001b[0m\n\u001b[0m",
            "\u001b[0;31mTypeError\u001b[0m: Game() takes no arguments"
          ]
        }
      ]
    },
    {
      "cell_type": "code",
      "metadata": {
        "colab": {
          "base_uri": "https://localhost:8080/",
          "height": 164
        },
        "id": "UTqfotoQjURk",
        "outputId": "3871f882-29d9-4bdd-fdad-423b1bbb6e3c"
      },
      "source": [
        "game(40, \"Ice Hockey\", [\"sticks\", \"goal\", \"ice skates\", \"puck\"])"
      ],
      "execution_count": null,
      "outputs": [
        {
          "output_type": "error",
          "ename": "NameError",
          "evalue": "ignored",
          "traceback": [
            "\u001b[0;31m---------------------------------------------------------------------------\u001b[0m",
            "\u001b[0;31mNameError\u001b[0m                                 Traceback (most recent call last)",
            "\u001b[0;32m<ipython-input-5-caa1bc0a4238>\u001b[0m in \u001b[0;36m<module>\u001b[0;34m()\u001b[0m\n\u001b[0;32m----> 1\u001b[0;31m \u001b[0mgame\u001b[0m\u001b[0;34m(\u001b[0m\u001b[0;36m40\u001b[0m\u001b[0;34m,\u001b[0m \u001b[0;34m\"Ice Hockey\"\u001b[0m\u001b[0;34m,\u001b[0m \u001b[0;34m[\u001b[0m\u001b[0;34m\"sticks\"\u001b[0m\u001b[0;34m,\u001b[0m \u001b[0;34m\"goal\"\u001b[0m\u001b[0;34m,\u001b[0m \u001b[0;34m\"ice skates\"\u001b[0m\u001b[0;34m,\u001b[0m \u001b[0;34m\"puck\"\u001b[0m\u001b[0;34m]\u001b[0m\u001b[0;34m)\u001b[0m\u001b[0;34m\u001b[0m\u001b[0;34m\u001b[0m\u001b[0m\n\u001b[0m",
            "\u001b[0;31mNameError\u001b[0m: name 'game' is not defined"
          ]
        }
      ]
    }
  ]
}