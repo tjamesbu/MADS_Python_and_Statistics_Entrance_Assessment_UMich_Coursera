{
  "nbformat": 4,
  "nbformat_minor": 0,
  "metadata": {
    "colab": {
      "name": "EntranceExamAttempt2Q13.ipynb",
      "provenance": [],
      "collapsed_sections": []
    },
    "kernelspec": {
      "name": "python3",
      "display_name": "Python 3"
    },
    "language_info": {
      "name": "python"
    }
  },
  "cells": [
    {
      "cell_type": "code",
      "metadata": {
        "id": "3ZgdhaI-c_3g"
      },
      "source": [
        "def new_dict(data = [\"sample\", 1]):\n",
        "  val = data[0].index(data[-1])\n",
        "  d = {data: val}\n",
        "  return d"
      ],
      "execution_count": 19,
      "outputs": []
    },
    {
      "cell_type": "code",
      "metadata": {
        "id": "v0-AVZ7xdcgN"
      },
      "source": [
        "def new_dict(data = [\"sample\", 1]):\n",
        "  val = data[0][data[1]]\n",
        "  d = {data[0]: val}\n",
        "  return d\n",
        "\n"
      ],
      "execution_count": 20,
      "outputs": []
    },
    {
      "cell_type": "code",
      "metadata": {
        "id": "Rzab2ehTdc7e"
      },
      "source": [
        "def new_dict(orig_str, extract_int):\n",
        "  val = orig_str[extract_int]\n",
        "  d = {orig_str: val}\n",
        "  return d\n",
        "\n",
        "  "
      ],
      "execution_count": 25,
      "outputs": []
    },
    {
      "cell_type": "code",
      "metadata": {
        "id": "17gh-1KoddYM"
      },
      "source": [
        "def new_dict(orig_str, extract_int):\n",
        "  val = orig_str.index(extract_int)\n",
        "  key = orig_str\n",
        "  d = (key, val)\n",
        "  return d\n",
        "\n",
        "  "
      ],
      "execution_count": 26,
      "outputs": []
    },
    {
      "cell_type": "code",
      "metadata": {
        "id": "9tSiQyy0IbGJ"
      },
      "source": [
        "#Which of the following functions takes in two parameters, as string and an integer, extracts the character at the n'th position (dictated by the integer parameter) from the string, \n",
        "#and returns a dictionary where the original string is the key and the extracted character is the value?  Select all that apply."
      ],
      "execution_count": null,
      "outputs": []
    }
  ]
}